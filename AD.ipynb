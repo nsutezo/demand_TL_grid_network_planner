{
 "cells": [
  {
   "cell_type": "code",
   "execution_count": 20,
   "metadata": {},
   "outputs": [],
   "source": [
    "from pylab import *\n",
    "R = pi/180 "
   ]
  },
  {
   "cell_type": "code",
   "execution_count": 21,
   "metadata": {},
   "outputs": [],
   "source": [
    "L = 40.718\n",
    "n = 173\n",
    "\n",
    "tauB = 0.351\n",
    "tauD = 2.070\n",
    "\n",
    "Delta = 23.45* sin((2*pi/365)* (n + 284) ) \n",
    "HRA = linspace(-180,180,100)"
   ]
  },
  {
   "cell_type": "code",
   "execution_count": null,
   "metadata": {},
   "outputs": [],
   "source": []
  },
  {
   "cell_type": "code",
   "execution_count": 22,
   "metadata": {},
   "outputs": [
    {
     "name": "stdout",
     "output_type": "stream",
     "text": [
      "1322.2260396610527\n"
     ]
    }
   ],
   "source": [
    "def altitude(L,Del,HRA):\n",
    "    sinB = cos(R*L)* cos(R*HRA)* cos(R*Del) + sin(R*L)* sin(R*Del)\n",
    "    return 1/R * arcsin( sinB    )\n",
    "\n",
    "def SolarAzi(Beta, L, Del):\n",
    "    cosA = (sin(R*Beta)* sin(R*L) - sin(Del*R)) / ( cos(Beta*R)* cos(L*R) )\n",
    "    return 1/R * arccos( cosA    )\n",
    "\n",
    "def Incidence(Beta, diff_azi, alpha):\n",
    "    cosTH = cos(Beta*R)*cos(diff_azi*R)*sin(alpha*R) + sin(Beta*R)*cos(alpha*R)\n",
    "    return 1/R * arccos( cosTH )\n",
    "\n",
    "\n",
    "def m(Beta): \n",
    "    return 1/( sin(R*Beta) + 0.50572*( (6.07955 + Beta)**(-1.6364) )  )\n",
    "\n",
    "\n",
    "def ab(TauB, TauD):\n",
    "    ab = 1.219 - 0.043*TauB - 0.151*TauD - 0.204*TauB*TauD\n",
    "    return ab\n",
    "\n",
    "\n",
    "def ad(TauB, TauD):\n",
    "    ad = 0.202 + 0.852*TauB - 0.007*TauD - 0.357*TauB*TauD\n",
    "    return ad\n",
    "\n",
    "Eo = 1367* ( 1 + 0.033* cos(R* (n - 3/ 365))  )\n",
    "  \n",
    "    \n",
    "print(Eo)    \n",
    "    "
   ]
  },
  {
   "cell_type": "code",
   "execution_count": 23,
   "metadata": {},
   "outputs": [],
   "source": [
    "beta = altitude(L, Delta, HRA)\n",
    "\n",
    "\n",
    "Azi = SolarAzi(beta, L, Delta)\n",
    "\n",
    "\n",
    "SurAzi = 0\n",
    "\n",
    "\n",
    "alpha = 90\n",
    "\n",
    "diff = Azi - SurAzi\n",
    "\n",
    "Inc = Incidence(beta, diff, alpha)\n",
    "\n",
    "\n"
   ]
  },
  {
   "cell_type": "code",
   "execution_count": 32,
   "metadata": {},
   "outputs": [
    {
     "name": "stderr",
     "output_type": "stream",
     "text": [
      "/Users/anshsandhu/opt/anaconda3/lib/python3.7/site-packages/ipykernel_launcher.py:1: RuntimeWarning: invalid value encountered in power\n",
      "  \"\"\"Entry point for launching an IPython kernel.\n"
     ]
    }
   ],
   "source": [
    "m = 1/( sin(R*beta) + 0.50572*( (6.07955 + beta)**(-1.6364) )  )\n",
    "ab = 1.219 - 0.043*tauB - 0.151*tauD - 0.204*tauB*tauD\n",
    "ad = 0.202 + 0.852*tauB - 0.007*tauD - 0.357*tauB*tauD\n",
    "E_beam =   Eo* exp( -tauB* (m**ab) )\n",
    "    \n"
   ]
  },
  {
   "cell_type": "code",
   "execution_count": 31,
   "metadata": {},
   "outputs": [
    {
     "name": "stderr",
     "output_type": "stream",
     "text": [
      "/Users/anshsandhu/opt/anaconda3/lib/python3.7/site-packages/ipykernel_launcher.py:2: RuntimeWarning: invalid value encountered in power\n",
      "  \n"
     ]
    }
   ],
   "source": [
    "\n",
    "\n",
    "EBa = E_Beam* cos(R*Inc)\n",
    "\n"
   ]
  },
  {
   "cell_type": "code",
   "execution_count": 17,
   "metadata": {},
   "outputs": [
    {
     "data": {
      "text/plain": [
       "[<matplotlib.lines.Line2D at 0x1181536d0>]"
      ]
     },
     "execution_count": 17,
     "metadata": {},
     "output_type": "execute_result"
    },
    {
     "data": {
      "image/png": "[encoded data removed]",
      "text/plain": [
       "<Figure size 432x288 with 1 Axes>"
      ]
     },
     "metadata": {
      "needs_background": "light"
     },
     "output_type": "display_data"
    }
   ],
   "source": [
    "plot(HRA,Incidence )"
   ]
  },
  {
   "cell_type": "code",
   "execution_count": null,
   "metadata": {},
   "outputs": [],
   "source": []
  },
  {
   "cell_type": "code",
   "execution_count": null,
   "metadata": {},
   "outputs": [],
   "source": []
  }
 ],
 "metadata": {
  "kernelspec": {
   "display_name": "Python 3",
   "language": "python",
   "name": "python3"
  },
  "language_info": {
   "codemirror_mode": {
    "name": "ipython",
    "version": 3
   },
   "file_extension": ".py",
   "mimetype": "text/x-python",
   "name": "python",
   "nbconvert_exporter": "python",
   "pygments_lexer": "ipython3",
   "version": "3.7.4"
  }
 },
 "nbformat": 4,
 "nbformat_minor": 2
}
